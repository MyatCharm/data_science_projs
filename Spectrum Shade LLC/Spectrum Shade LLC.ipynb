{
 "cells": [
  {
   "cell_type": "markdown",
   "id": "8d0bcede-0826-475c-8678-72835c042b37",
   "metadata": {},
   "source": [
    "# Practical Exam: Spectrum Shades LLC\n",
    "Spectrum Shades LLC is a prominent supplier of concrete color solutions, offering a wide range of pigments and coloring systems used in various concrete applications, including decorative concrete, precast concrete, and concrete pavers. The company prides itself on delivering high-quality colorants that meet the unique needs of its diverse clientele, including contractors, architects, and construction companies.\n",
    "</br></br>\n",
    "The company has recently observed a growing number of customer complaints regarding inconsistent color quality in their products. The discrepancies have led to a decline in customer satisfaction and a potential increase in product returns.\n",
    "By identifying and mitigating the factors causing color variations, the company can enhance product reliability, reduce customer complaints, and minimize return rates.\n",
    "</br></br>\n",
    "You are part of the data analysis team tasked with providing actionable insights to help Spectrum Shades LLC address the issues of inconsistent color quality and improve customer satisfaction."
   ]
  },
  {
   "cell_type": "markdown",
   "id": "c0d5a3bb-bbae-4d39-a6c6-daa46c470347",
   "metadata": {},
   "source": [
    "# Task 1\n",
    "\n",
    "Before you can start any analysis, you need to confirm that the data is accurate and reflects what you expect to see. \n",
    "\n",
    "It is known that there are some issues with the `production_data` table, and the data team have provided the following data description. \n",
    "\n",
    "Write a query to ensure the data matches the description provided, including identifying and cleaning all invalid values. You must match all column names and description criteria.\n",
    "</br>\n",
    "\n",
    "- You should start with the data in the file \"production_data.csv\".\n",
    "- Your output should be a DataFrame named clean_data.\n",
    "- All column names and values should match the table below.\n",
    "</br>\n",
    "\n",
    "| Column Name             | Criteria                                                                                         |\n",
    "|--------------------------|--------------------------------------------------------------------------------------------------|\n",
    "| batch_id | Discrete. Identifier for each batch. Missing values are not possible. |\n",
    "| production_date | Date. Date when the batch was produced.|\n",
    "| raw_material_supplier | Categorical. Supplier of the raw materials. (1='national_supplier', 2='international_supplier'). <br> Missing values should be replaced with 'national_supplier'.|\n",
    "| pigment_type           | Nominal. Type of pigment used. ['type_a', 'type_b', 'type_c']. <br> Missing values should be replaced with 'other'. |\n",
    "| pigment_quantity       | Continuous. Amount of pigment added (in kilograms) (Range: 1 - 100). <br> Missing values should be replaced with median. |\n",
    "| mixing_time           | Continuous. Duration of the mixing process (in minutes). <br> Missing values should be replaced with mean. |\n",
    "| mixing_speed          | Categorical. Speed of the mixing process represented as categories: 'Low', 'Medium', 'High'.</br> Missing values should be replaced with 'Not Specified'. |\n",
    "| product_quality_score | Continuous. Overall quality score of the final product (rating on a scale of 1 to 10). <br> Missing values should be replaced with mean. |\n"
   ]
  },
  {
   "cell_type": "code",
   "execution_count": 1,
   "id": "9ed16ac5-52b9-4d5e-95ee-9fb10e463718",
   "metadata": {
    "executionCancelledAt": null,
    "executionTime": 50,
    "lastExecutedAt": 1735137164545,
    "lastExecutedByKernel": "54d974b7-5e41-47ee-b3ef-c5d177591f01",
    "lastScheduledRunId": null,
    "lastSuccessfullyExecutedCode": "import pandas as pd"
   },
   "outputs": [],
   "source": [
    "import pandas as pd"
   ]
  },
  {
   "cell_type": "code",
   "execution_count": 15,
   "id": "5ce18b54-29af-4beb-bc8c-79c4e21bcd52",
   "metadata": {
    "executionCancelledAt": null,
    "executionTime": 52,
    "lastExecutedAt": 1735137164597,
    "lastExecutedByKernel": "54d974b7-5e41-47ee-b3ef-c5d177591f01",
    "lastScheduledRunId": null,
    "lastSuccessfullyExecutedCode": "# Write your answer to Task 1 here\nclean_data = pd.read_csv(\"production_data.csv\")",
    "outputsMetadata": {
     "0": {
      "height": 543,
      "tableState": {
       "quickFilterText": ""
      },
      "type": "dataFrame"
     }
    }
   },
   "outputs": [],
   "source": [
    "# Write your answer to Task 1 here\n",
    "clean_data = pd.read_csv(\"production_data.csv\")"
   ]
  },
  {
   "cell_type": "code",
   "execution_count": 16,
   "id": "8c9d4fad-2ef0-4a91-9247-d3c2bbdf4bf6",
   "metadata": {
    "executionCancelledAt": null,
    "executionTime": 52,
    "lastExecutedAt": 1735137164649,
    "lastExecutedByKernel": "54d974b7-5e41-47ee-b3ef-c5d177591f01",
    "lastScheduledRunId": null,
    "lastSuccessfullyExecutedCode": "# change production_date column to datetime format\nclean_data['production_date'] = pd.to_datetime(clean_data['production_date'])\n\n# change raw_material_supplier column to category and change values\nclean_data['raw_material_supplier'] = clean_data['raw_material_supplier'].astype('category').replace({1:'national_supplier',2:'international_supplier'})\n\n# change pigment_type column to category\nclean_data['pigment_type'] = clean_data['pigment_type'].str.lower().astype('category')\n\n# mixing_time column impute with mean value\nclean_data['mixing_time'].fillna(clean_data['mixing_time'].mean(),inplace=True)\n\n# mixing_speed column's missing values change to 'Not Specified'\nclean_data['mixing_speed'] = clean_data['mixing_speed'].replace('-','Not Specified').astype('category')\n\nclean_data.head()",
    "outputsMetadata": {
     "0": {
      "height": 50,
      "tableState": {
       "customFilter": {
        "const": {
         "type": "boolean",
         "valid": true,
         "value": true
        },
        "id": "f0590180-e7f4-44ee-bf51-e3fcc067a70e",
        "nodeType": "const"
       },
       "quickFilterText": ""
      },
      "type": "dataFrame"
     }
    }
   },
   "outputs": [
    {
     "name": "stderr",
     "output_type": "stream",
     "text": [
      "C:\\Users\\User\\AppData\\Local\\Temp\\ipykernel_19012\\3975432588.py:5: FutureWarning: The behavior of Series.replace (and DataFrame.replace) with CategoricalDtype is deprecated. In a future version, replace will only be used for cases that preserve the categories. To change the categories, use ser.cat.rename_categories instead.\n",
      "  clean_data['raw_material_supplier'] = clean_data['raw_material_supplier'].astype('category').replace({1:'national_supplier',2:'international_supplier'})\n",
      "C:\\Users\\User\\AppData\\Local\\Temp\\ipykernel_19012\\3975432588.py:11: FutureWarning: A value is trying to be set on a copy of a DataFrame or Series through chained assignment using an inplace method.\n",
      "The behavior will change in pandas 3.0. This inplace method will never work because the intermediate object on which we are setting values always behaves as a copy.\n",
      "\n",
      "For example, when doing 'df[col].method(value, inplace=True)', try using 'df.method({col: value}, inplace=True)' or df[col] = df[col].method(value) instead, to perform the operation inplace on the original object.\n",
      "\n",
      "\n",
      "  clean_data['mixing_time'].fillna(clean_data['mixing_time'].mean(),inplace=True)\n"
     ]
    },
    {
     "data": {
      "text/html": [
       "<div>\n",
       "<style scoped>\n",
       "    .dataframe tbody tr th:only-of-type {\n",
       "        vertical-align: middle;\n",
       "    }\n",
       "\n",
       "    .dataframe tbody tr th {\n",
       "        vertical-align: top;\n",
       "    }\n",
       "\n",
       "    .dataframe thead th {\n",
       "        text-align: right;\n",
       "    }\n",
       "</style>\n",
       "<table border=\"1\" class=\"dataframe\">\n",
       "  <thead>\n",
       "    <tr style=\"text-align: right;\">\n",
       "      <th></th>\n",
       "      <th>batch_id</th>\n",
       "      <th>production_date</th>\n",
       "      <th>raw_material_supplier</th>\n",
       "      <th>pigment_type</th>\n",
       "      <th>pigment_quantity</th>\n",
       "      <th>mixing_time</th>\n",
       "      <th>mixing_speed</th>\n",
       "      <th>product_quality_score</th>\n",
       "    </tr>\n",
       "  </thead>\n",
       "  <tbody>\n",
       "    <tr>\n",
       "      <th>0</th>\n",
       "      <td>1</td>\n",
       "      <td>2024-06-25</td>\n",
       "      <td>national_supplier</td>\n",
       "      <td>type_a</td>\n",
       "      <td>42.822881</td>\n",
       "      <td>22.56</td>\n",
       "      <td>High</td>\n",
       "      <td>7.165102</td>\n",
       "    </tr>\n",
       "    <tr>\n",
       "      <th>1</th>\n",
       "      <td>2</td>\n",
       "      <td>2023-11-23</td>\n",
       "      <td>international_supplier</td>\n",
       "      <td>type_b</td>\n",
       "      <td>42.873479</td>\n",
       "      <td>44.97</td>\n",
       "      <td>High</td>\n",
       "      <td>6.849126</td>\n",
       "    </tr>\n",
       "    <tr>\n",
       "      <th>2</th>\n",
       "      <td>3</td>\n",
       "      <td>2024-02-18</td>\n",
       "      <td>international_supplier</td>\n",
       "      <td>type_b</td>\n",
       "      <td>33.251206</td>\n",
       "      <td>52.62</td>\n",
       "      <td>High</td>\n",
       "      <td>5.661209</td>\n",
       "    </tr>\n",
       "    <tr>\n",
       "      <th>3</th>\n",
       "      <td>4</td>\n",
       "      <td>2023-11-11</td>\n",
       "      <td>national_supplier</td>\n",
       "      <td>type_a</td>\n",
       "      <td>52.532817</td>\n",
       "      <td>24.96</td>\n",
       "      <td>High</td>\n",
       "      <td>6.991735</td>\n",
       "    </tr>\n",
       "    <tr>\n",
       "      <th>4</th>\n",
       "      <td>5</td>\n",
       "      <td>2024-04-11</td>\n",
       "      <td>international_supplier</td>\n",
       "      <td>type_c</td>\n",
       "      <td>36.205108</td>\n",
       "      <td>25.37</td>\n",
       "      <td>High</td>\n",
       "      <td>7.095043</td>\n",
       "    </tr>\n",
       "  </tbody>\n",
       "</table>\n",
       "</div>"
      ],
      "text/plain": [
       "   batch_id production_date   raw_material_supplier pigment_type  \\\n",
       "0         1      2024-06-25       national_supplier       type_a   \n",
       "1         2      2023-11-23  international_supplier       type_b   \n",
       "2         3      2024-02-18  international_supplier       type_b   \n",
       "3         4      2023-11-11       national_supplier       type_a   \n",
       "4         5      2024-04-11  international_supplier       type_c   \n",
       "\n",
       "   pigment_quantity  mixing_time mixing_speed  product_quality_score  \n",
       "0         42.822881        22.56         High               7.165102  \n",
       "1         42.873479        44.97         High               6.849126  \n",
       "2         33.251206        52.62         High               5.661209  \n",
       "3         52.532817        24.96         High               6.991735  \n",
       "4         36.205108        25.37         High               7.095043  "
      ]
     },
     "execution_count": 16,
     "metadata": {},
     "output_type": "execute_result"
    }
   ],
   "source": [
    "# change production_date column to datetime format\n",
    "clean_data['production_date'] = pd.to_datetime(clean_data['production_date'])\n",
    "\n",
    "# change raw_material_supplier column to category and change values\n",
    "clean_data['raw_material_supplier'] = clean_data['raw_material_supplier'].astype('category').replace({1:'national_supplier',2:'international_supplier'})\n",
    "\n",
    "# change pigment_type column to category\n",
    "clean_data['pigment_type'] = clean_data['pigment_type'].str.lower().astype('category')\n",
    "\n",
    "# mixing_time column impute with mean value\n",
    "clean_data['mixing_time'].fillna(clean_data['mixing_time'].mean(),inplace=True)\n",
    "\n",
    "# mixing_speed column's missing values change to 'Not Specified'\n",
    "clean_data['mixing_speed'] = clean_data['mixing_speed'].replace('-','Not Specified').astype('category')\n",
    "\n",
    "clean_data.head()"
   ]
  },
  {
   "cell_type": "code",
   "execution_count": 4,
   "id": "0be92b80-de1d-4c42-9c20-196745e4de91",
   "metadata": {
    "executionCancelledAt": null,
    "executionTime": 49,
    "lastExecutedAt": 1735137164698,
    "lastExecutedByKernel": "54d974b7-5e41-47ee-b3ef-c5d177591f01",
    "lastScheduledRunId": null,
    "lastSuccessfullyExecutedCode": "clean_data.head()",
    "outputsMetadata": {
     "0": {
      "height": 50,
      "tableState": {
       "customFilter": {
        "const": {
         "type": "boolean",
         "valid": true,
         "value": true
        },
        "id": "f0590180-e7f4-44ee-bf51-e3fcc067a70e",
        "nodeType": "const"
       },
       "quickFilterText": ""
      },
      "type": "dataFrame"
     }
    }
   },
   "outputs": [
    {
     "data": {
      "text/html": [
       "<div>\n",
       "<style scoped>\n",
       "    .dataframe tbody tr th:only-of-type {\n",
       "        vertical-align: middle;\n",
       "    }\n",
       "\n",
       "    .dataframe tbody tr th {\n",
       "        vertical-align: top;\n",
       "    }\n",
       "\n",
       "    .dataframe thead th {\n",
       "        text-align: right;\n",
       "    }\n",
       "</style>\n",
       "<table border=\"1\" class=\"dataframe\">\n",
       "  <thead>\n",
       "    <tr style=\"text-align: right;\">\n",
       "      <th></th>\n",
       "      <th>batch_id</th>\n",
       "      <th>production_date</th>\n",
       "      <th>raw_material_supplier</th>\n",
       "      <th>pigment_type</th>\n",
       "      <th>pigment_quantity</th>\n",
       "      <th>mixing_time</th>\n",
       "      <th>mixing_speed</th>\n",
       "      <th>product_quality_score</th>\n",
       "    </tr>\n",
       "  </thead>\n",
       "  <tbody>\n",
       "    <tr>\n",
       "      <th>0</th>\n",
       "      <td>1</td>\n",
       "      <td>2024-06-25</td>\n",
       "      <td>national_supplier</td>\n",
       "      <td>type_a</td>\n",
       "      <td>42.822881</td>\n",
       "      <td>22.56</td>\n",
       "      <td>High</td>\n",
       "      <td>7.165102</td>\n",
       "    </tr>\n",
       "    <tr>\n",
       "      <th>1</th>\n",
       "      <td>2</td>\n",
       "      <td>2023-11-23</td>\n",
       "      <td>international_supplier</td>\n",
       "      <td>type_b</td>\n",
       "      <td>42.873479</td>\n",
       "      <td>44.97</td>\n",
       "      <td>High</td>\n",
       "      <td>6.849126</td>\n",
       "    </tr>\n",
       "    <tr>\n",
       "      <th>2</th>\n",
       "      <td>3</td>\n",
       "      <td>2024-02-18</td>\n",
       "      <td>international_supplier</td>\n",
       "      <td>type_b</td>\n",
       "      <td>33.251206</td>\n",
       "      <td>52.62</td>\n",
       "      <td>High</td>\n",
       "      <td>5.661209</td>\n",
       "    </tr>\n",
       "    <tr>\n",
       "      <th>3</th>\n",
       "      <td>4</td>\n",
       "      <td>2023-11-11</td>\n",
       "      <td>national_supplier</td>\n",
       "      <td>type_a</td>\n",
       "      <td>52.532817</td>\n",
       "      <td>24.96</td>\n",
       "      <td>High</td>\n",
       "      <td>6.991735</td>\n",
       "    </tr>\n",
       "    <tr>\n",
       "      <th>4</th>\n",
       "      <td>5</td>\n",
       "      <td>2024-04-11</td>\n",
       "      <td>international_supplier</td>\n",
       "      <td>type_c</td>\n",
       "      <td>36.205108</td>\n",
       "      <td>25.37</td>\n",
       "      <td>High</td>\n",
       "      <td>7.095043</td>\n",
       "    </tr>\n",
       "  </tbody>\n",
       "</table>\n",
       "</div>"
      ],
      "text/plain": [
       "   batch_id production_date   raw_material_supplier pigment_type  \\\n",
       "0         1      2024-06-25       national_supplier       type_a   \n",
       "1         2      2023-11-23  international_supplier       type_b   \n",
       "2         3      2024-02-18  international_supplier       type_b   \n",
       "3         4      2023-11-11       national_supplier       type_a   \n",
       "4         5      2024-04-11  international_supplier       type_c   \n",
       "\n",
       "   pigment_quantity  mixing_time mixing_speed  product_quality_score  \n",
       "0         42.822881        22.56         High               7.165102  \n",
       "1         42.873479        44.97         High               6.849126  \n",
       "2         33.251206        52.62         High               5.661209  \n",
       "3         52.532817        24.96         High               6.991735  \n",
       "4         36.205108        25.37         High               7.095043  "
      ]
     },
     "execution_count": 4,
     "metadata": {},
     "output_type": "execute_result"
    }
   ],
   "source": [
    "clean_data.head()"
   ]
  },
  {
   "cell_type": "code",
   "execution_count": 17,
   "id": "58e42917-39ee-4a2e-b63d-55e6e421be91",
   "metadata": {
    "executionCancelledAt": null,
    "executionTime": 52,
    "lastExecutedAt": 1735137164801,
    "lastExecutedByKernel": "54d974b7-5e41-47ee-b3ef-c5d177591f01",
    "lastScheduledRunId": null,
    "lastSuccessfullyExecutedCode": "clean_data.info()",
    "outputsMetadata": {
     "0": {
      "height": 332,
      "type": "stream"
     }
    }
   },
   "outputs": [
    {
     "name": "stdout",
     "output_type": "stream",
     "text": [
      "<class 'pandas.core.frame.DataFrame'>\n",
      "RangeIndex: 2000 entries, 0 to 1999\n",
      "Data columns (total 8 columns):\n",
      " #   Column                 Non-Null Count  Dtype         \n",
      "---  ------                 --------------  -----         \n",
      " 0   batch_id               2000 non-null   int64         \n",
      " 1   production_date        2000 non-null   datetime64[ns]\n",
      " 2   raw_material_supplier  2000 non-null   category      \n",
      " 3   pigment_type           2000 non-null   category      \n",
      " 4   pigment_quantity       2000 non-null   float64       \n",
      " 5   mixing_time            2000 non-null   float64       \n",
      " 6   mixing_speed           2000 non-null   category      \n",
      " 7   product_quality_score  2000 non-null   float64       \n",
      "dtypes: category(3), datetime64[ns](1), float64(3), int64(1)\n",
      "memory usage: 84.6 KB\n"
     ]
    }
   ],
   "source": [
    "clean_data.info()"
   ]
  },
  {
   "cell_type": "markdown",
   "id": "026b3c30-d3b0-4762-ae10-0f2880873bdc",
   "metadata": {},
   "source": [
    "# Task 2\n",
    "\n",
    "You want to understand how the supplier type and quantity of materials affect the final product attributes.\n",
    "\n",
    "Calculate the average `product_quality_score` and `pigment_quantity` grouped by `raw_material_supplier`.\n",
    "\n",
    "- You should start with the data in the file 'production_data.csv'. \n",
    "- Your output should be a DataFrame named aggregated_data.\n",
    "- It should include the three columns: `raw_material_supplier`, `avg_product_quality_score`, and `avg_pigment_quantity`.\n",
    "- Your answers should be rounded to 2 decimal places.\n"
   ]
  },
  {
   "cell_type": "code",
   "execution_count": 18,
   "id": "6d47e440-c4ab-45cf-af40-53181764bac4",
   "metadata": {
    "executionCancelledAt": null,
    "executionTime": 57,
    "lastExecutedAt": 1735137164858,
    "lastExecutedByKernel": "54d974b7-5e41-47ee-b3ef-c5d177591f01",
    "lastScheduledRunId": null,
    "lastSuccessfullyExecutedCode": "# Write your answer to Task 2 here\n# df = pd.read_csv('production_data.csv')\naggregated_data = clean_data[['raw_material_supplier','product_quality_score','pigment_quantity']]\naggregated_data = round(aggregated_data.groupby('raw_material_supplier').agg({'product_quality_score':'mean',\n                                                          'pigment_quantity':'mean'}),2)\naggregated_data.rename(columns={'product_quality_score': 'avg_product_quality_score', 'pigment_quantity': 'avg_pigment_quantity'},inplace=True)\naggregated_data",
    "outputsMetadata": {
     "0": {
      "height": 50,
      "tableState": {
       "customFilter": {
        "const": {
         "type": "boolean",
         "valid": true,
         "value": true
        },
        "id": "f0590180-e7f4-44ee-bf51-e3fcc067a70e",
        "nodeType": "const"
       },
       "quickFilterText": ""
      },
      "type": "dataFrame"
     }
    }
   },
   "outputs": [
    {
     "name": "stderr",
     "output_type": "stream",
     "text": [
      "C:\\Users\\User\\AppData\\Local\\Temp\\ipykernel_19012\\1113968194.py:3: FutureWarning: The default of observed=False is deprecated and will be changed to True in a future version of pandas. Pass observed=False to retain current behavior or observed=True to adopt the future default and silence this warning.\n",
      "  aggregated_data = clean_data.groupby('raw_material_supplier')[['product_quality_score','pigment_quantity']].mean()\n"
     ]
    },
    {
     "data": {
      "text/html": [
       "<div>\n",
       "<style scoped>\n",
       "    .dataframe tbody tr th:only-of-type {\n",
       "        vertical-align: middle;\n",
       "    }\n",
       "\n",
       "    .dataframe tbody tr th {\n",
       "        vertical-align: top;\n",
       "    }\n",
       "\n",
       "    .dataframe thead th {\n",
       "        text-align: right;\n",
       "    }\n",
       "</style>\n",
       "<table border=\"1\" class=\"dataframe\">\n",
       "  <thead>\n",
       "    <tr style=\"text-align: right;\">\n",
       "      <th></th>\n",
       "      <th>raw_material_supplier</th>\n",
       "      <th>avg_product_quality_score</th>\n",
       "      <th>avg_pigment_quantity</th>\n",
       "    </tr>\n",
       "  </thead>\n",
       "  <tbody>\n",
       "    <tr>\n",
       "      <th>0</th>\n",
       "      <td>national_supplier</td>\n",
       "      <td>8.02</td>\n",
       "      <td>44.73</td>\n",
       "    </tr>\n",
       "    <tr>\n",
       "      <th>1</th>\n",
       "      <td>international_supplier</td>\n",
       "      <td>5.97</td>\n",
       "      <td>34.91</td>\n",
       "    </tr>\n",
       "  </tbody>\n",
       "</table>\n",
       "</div>"
      ],
      "text/plain": [
       "    raw_material_supplier  avg_product_quality_score  avg_pigment_quantity\n",
       "0       national_supplier                       8.02                 44.73\n",
       "1  international_supplier                       5.97                 34.91"
      ]
     },
     "execution_count": 18,
     "metadata": {},
     "output_type": "execute_result"
    }
   ],
   "source": [
    "# Write your answer to Task 2 here\n",
    "\n",
    "aggregated_data = clean_data.groupby('raw_material_supplier')[['product_quality_score','pigment_quantity']].mean()\n",
    "aggregated_data = aggregated_data.reset_index()\n",
    "\n",
    "# Round the values to 2 decimal places\n",
    "aggregated_data['product_quality_score'] = aggregated_data['product_quality_score'].round(2)\n",
    "aggregated_data['pigment_quantity'] = aggregated_data['pigment_quantity'].round(2)\n",
    "\n",
    "# Rename the columns\n",
    "\n",
    "aggregated_data.rename(columns={\n",
    "    'product_quality_score' :  'avg_product_quality_score',\n",
    "    'pigment_quantity' : 'avg_pigment_quantity'\n",
    "},inplace=True)\n",
    "\n",
    "aggregated_data\n",
    "\n"
   ]
  },
  {
   "cell_type": "markdown",
   "id": "cb821882-c29a-42e7-bff8-e281dc068a9b",
   "metadata": {},
   "source": [
    "# Task 3\n",
    "\n",
    "To get more insight into the factors behind product quality, you want to filter the data to see an average product quality score for a specified set of results.\n",
    "\n",
    "Identify the average `product_quality_score` for batches with a `raw_material_supplier` of 2 and a `pigment_quantity` greater than 35 kg.\n",
    "\n",
    "Write a query to return the average `avg_product_quality_score` for these filtered batches. Use the original production data table, not the output of Task 2.\n",
    "\n",
    "- You should start with the data in the file 'production_data.csv'. \n",
    "- Your output should be a DataFrame named pigment_data.\n",
    "- It should consist of a 1-row DataFrame with 3 columns: `raw_material_supplier`, `pigment_quantity`, and `avg_product_quality_score`.\n",
    "- Your answers should be rounded to 2 decimal places where appropriate.\n"
   ]
  },
  {
   "cell_type": "code",
   "execution_count": 26,
   "id": "b30f8d6b-21cc-4de7-9c88-dffeb602f9d3",
   "metadata": {
    "executionCancelledAt": null,
    "executionTime": 60,
    "lastExecutedAt": 1735137164969,
    "lastExecutedByKernel": "54d974b7-5e41-47ee-b3ef-c5d177591f01",
    "lastScheduledRunId": null,
    "lastSuccessfullyExecutedCode": "# Write your answer to Task 3 here\npigment_data = round(fil_df.groupby('raw_material_supplier').agg({'pigment_quantity':'mean',\n                                                        'product_quality_score':'mean'}),2)\n\npigment_data.rename(columns={'product_quality_score':'avg_product_quality_score'},inplace=True)\npigment_data",
    "outputsMetadata": {
     "0": {
      "height": 50,
      "tableState": {
       "customFilter": {
        "const": {
         "type": "boolean",
         "valid": true,
         "value": true
        },
        "id": "f0590180-e7f4-44ee-bf51-e3fcc067a70e",
        "nodeType": "const"
       },
       "quickFilterText": ""
      },
      "type": "dataFrame"
     }
    }
   },
   "outputs": [
    {
     "data": {
      "text/html": [
       "<div>\n",
       "<style scoped>\n",
       "    .dataframe tbody tr th:only-of-type {\n",
       "        vertical-align: middle;\n",
       "    }\n",
       "\n",
       "    .dataframe tbody tr th {\n",
       "        vertical-align: top;\n",
       "    }\n",
       "\n",
       "    .dataframe thead th {\n",
       "        text-align: right;\n",
       "    }\n",
       "</style>\n",
       "<table border=\"1\" class=\"dataframe\">\n",
       "  <thead>\n",
       "    <tr style=\"text-align: right;\">\n",
       "      <th></th>\n",
       "      <th>raw_material_supplier</th>\n",
       "      <th>pigment_quantity</th>\n",
       "      <th>avg_product_quality_score</th>\n",
       "    </tr>\n",
       "  </thead>\n",
       "  <tbody>\n",
       "    <tr>\n",
       "      <th>0</th>\n",
       "      <td>2</td>\n",
       "      <td>39.01</td>\n",
       "      <td>5.97</td>\n",
       "    </tr>\n",
       "  </tbody>\n",
       "</table>\n",
       "</div>"
      ],
      "text/plain": [
       "   raw_material_supplier  pigment_quantity  avg_product_quality_score\n",
       "0                      2             39.01                       5.97"
      ]
     },
     "execution_count": 26,
     "metadata": {},
     "output_type": "execute_result"
    }
   ],
   "source": [
    "# Write your answer to Task 3 here\n",
    "# Filter data\n",
    "df = pd.read_csv('production_data.csv')\n",
    "fil_df = df[(df['raw_material_supplier']== 2) & (df['pigment_quantity']>35)]\n",
    "\n",
    "# Calculate avg product_quality_score and pigment_quantity for filter data\n",
    "avg_product_quality_score = round(fil_df['product_quality_score'].mean(),2)\n",
    "avg_pigment_quantity = round(fil_df['pigment_quantity'].mean(),2)\n",
    "\n",
    "# Create Dataframe \n",
    "pigment_data = pd.DataFrame({\n",
    "    'raw_material_supplier' : [2],\n",
    "    'pigment_quantity' : [avg_pigment_quantity],\n",
    "    'avg_product_quality_score' : [avg_product_quality_score]\n",
    "})\n",
    "\n",
    "#pigment_data.rename(columns={'product_quality_score':'avg_product_quality_score'},inplace=True)\n",
    "pigment_data"
   ]
  },
  {
   "cell_type": "markdown",
   "id": "42718e48-205a-48ab-8ddc-a93857b71726",
   "metadata": {},
   "source": [
    "# Task 4\n",
    "\n",
    "In order to proceed with further analysis later, you need to analyze how various factors relate to product quality. Start by calculating the mean and standard deviation for the following columns: `pigment_quantity`, and `product_quality_score`. </br> These statistics will help in understanding the central tendency and variability of the data related to product quality.\n",
    "</br> </br >\n",
    "Next, calculate the Pearson correlation coefficient between the following variables: `pigment_quantity`, and `product_quality_score`.\n",
    "</br>\n",
    "These correlation coefficients will provide insights into the strength and direction of the relationships between the factors and overall product quality.\n",
    "\n",
    "\n",
    "- You should start with the data in the file 'production_data.csv'.\n",
    "- Calculate the mean and standard deviation for the columns pigment_quantity and product_quality_score as: `product_quality_score_mean`, `product_quality_score_sd`, `pigment_quantity_mean`, `pigment_quantity_sd`.\n",
    "- Calculate the Pearson correlation coefficient between pigment_quantity and product_quality_score as: `corr_coef`\n",
    "- Your output should be a DataFrame named product_quality.\n",
    "- It should include the columns: `product_quality_score_mean`, `product_quality_score_sd`, `pigment_quantity_mean`, `pigment_quantity_sd`, `corr_coef`.\n",
    "- Ensure that your answers are rounded to 2 decimal places.\n"
   ]
  },
  {
   "cell_type": "code",
   "execution_count": 25,
   "id": "eb9b11fd-07d5-4a39-b2fa-afaa69285e3b",
   "metadata": {
    "executionCancelledAt": null,
    "executionTime": 56,
    "lastExecutedAt": 1735137165025,
    "lastExecutedByKernel": "54d974b7-5e41-47ee-b3ef-c5d177591f01",
    "lastScheduledRunId": null,
    "lastSuccessfullyExecutedCode": "# Write your answer to Task 4 here\ndf = pd.read_csv('production_data.csv')\nproduct_quality_score_mean = round(df['product_quality_score'].mean(),2)\nproduct_quality_score_sd = round(df['product_quality_score'].std(),2)\npigment_quantity_mean = round(df['pigment_quantity'].mean(),2)\npigment_quantity_sd = round(df['pigment_quantity'].std(),2)\ncorr_coef = round(clean_data['product_quality_score'].corr(clean_data['pigment_quantity']),2)\n\ndata = {'product_quality_score_mean' : [product_quality_score_mean],\n        'product_quality_score_sd' : [product_quality_score_sd],\n        'pigment_quantity_mean' : [pigment_quantity_mean],\n        'pigment_quantity_sd' : [pigment_quantity_sd],\n        'corr_coef' : [corr_coef]}\nproduct_quality = pd.DataFrame(data)\nproduct_quality",
    "outputsMetadata": {
     "0": {
      "height": 50,
      "tableState": {
       "customFilter": {
        "const": {
         "type": "boolean",
         "valid": true,
         "value": true
        },
        "id": "f0590180-e7f4-44ee-bf51-e3fcc067a70e",
        "nodeType": "const"
       },
       "quickFilterText": ""
      },
      "type": "dataFrame"
     }
    }
   },
   "outputs": [
    {
     "data": {
      "text/html": [
       "<div>\n",
       "<style scoped>\n",
       "    .dataframe tbody tr th:only-of-type {\n",
       "        vertical-align: middle;\n",
       "    }\n",
       "\n",
       "    .dataframe tbody tr th {\n",
       "        vertical-align: top;\n",
       "    }\n",
       "\n",
       "    .dataframe thead th {\n",
       "        text-align: right;\n",
       "    }\n",
       "</style>\n",
       "<table border=\"1\" class=\"dataframe\">\n",
       "  <thead>\n",
       "    <tr style=\"text-align: right;\">\n",
       "      <th></th>\n",
       "      <th>product_quality_score_mean</th>\n",
       "      <th>product_quality_score_sd</th>\n",
       "      <th>pigment_quantity_mean</th>\n",
       "      <th>pigment_quantity_sd</th>\n",
       "      <th>corr_coef</th>\n",
       "    </tr>\n",
       "  </thead>\n",
       "  <tbody>\n",
       "    <tr>\n",
       "      <th>0</th>\n",
       "      <td>6.68</td>\n",
       "      <td>1.39</td>\n",
       "      <td>38.35</td>\n",
       "      <td>6.83</td>\n",
       "      <td>0.49</td>\n",
       "    </tr>\n",
       "  </tbody>\n",
       "</table>\n",
       "</div>"
      ],
      "text/plain": [
       "   product_quality_score_mean  product_quality_score_sd  \\\n",
       "0                        6.68                      1.39   \n",
       "\n",
       "   pigment_quantity_mean  pigment_quantity_sd  corr_coef  \n",
       "0                  38.35                 6.83       0.49  "
      ]
     },
     "execution_count": 25,
     "metadata": {},
     "output_type": "execute_result"
    }
   ],
   "source": [
    "# Write your answer to Task 4 here\n",
    "df = pd.read_csv('production_data.csv')\n",
    "product_quality_score_mean = round(df['product_quality_score'].mean(),2)\n",
    "product_quality_score_sd = round(df['product_quality_score'].std(),2)\n",
    "pigment_quantity_mean = round(df['pigment_quantity'].mean(),2)\n",
    "pigment_quantity_sd = round(df['pigment_quantity'].std(),2)\n",
    "corr_coef = round(clean_data['product_quality_score'].corr(clean_data['pigment_quantity']),2)\n",
    "\n",
    "data = {'product_quality_score_mean' : [product_quality_score_mean],\n",
    "        'product_quality_score_sd' : [product_quality_score_sd],\n",
    "        'pigment_quantity_mean' : [pigment_quantity_mean],\n",
    "        'pigment_quantity_sd' : [pigment_quantity_sd],\n",
    "        'corr_coef' : [corr_coef]}\n",
    "product_quality = pd.DataFrame(data)\n",
    "product_quality"
   ]
  }
 ],
 "metadata": {
  "colab": {
   "name": "Welcome to DataCamp Workspaces.ipynb",
   "provenance": []
  },
  "editor": "DataLab",
  "kernelspec": {
   "display_name": "base",
   "language": "python",
   "name": "python3"
  },
  "language_info": {
   "codemirror_mode": {
    "name": "ipython",
    "version": 3
   },
   "file_extension": ".py",
   "mimetype": "text/x-python",
   "name": "python",
   "nbconvert_exporter": "python",
   "pygments_lexer": "ipython3",
   "version": "3.11.5"
  }
 },
 "nbformat": 4,
 "nbformat_minor": 5
}
