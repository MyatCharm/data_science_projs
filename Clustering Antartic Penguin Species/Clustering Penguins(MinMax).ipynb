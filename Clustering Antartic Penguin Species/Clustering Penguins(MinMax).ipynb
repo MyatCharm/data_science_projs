{
 "cells": [
  {
   "cell_type": "markdown",
   "id": "589fe37e-e764-4d71-9c3c-93c8b7acee79",
   "metadata": {},
   "source": [
    "![Alt text](https://imgur.com/orZWHly.png=80)\n",
    "source: @allison_horst https://github.com/allisonhorst/penguins"
   ]
  },
  {
   "cell_type": "markdown",
   "id": "d3fb84f2-0eda-4b73-95c0-5364f83e25bf",
   "metadata": {},
   "source": [
    "You have been asked to support a team of researchers who have been collecting data about penguins in Antartica! The data is available in csv-Format as `penguins.csv`\n",
    "\n",
    "**Origin of this data** : Data were collected and made available by Dr. Kristen Gorman and the Palmer Station, Antarctica LTER, a member of the Long Term Ecological Research Network.\n",
    "\n",
    "**The dataset consists of 5 columns.**\n",
    "\n",
    "Column | Description\n",
    "--- | ---\n",
    "culmen_length_mm | culmen length (mm)\n",
    "culmen_depth_mm | culmen depth (mm)\n",
    "flipper_length_mm | flipper length (mm)\n",
    "body_mass_g | body mass (g)\n",
    "sex | penguin sex\n",
    "\n",
    "Unfortunately, they have not been able to record the species of penguin, but they know that there are **at least three** species that are native to the region: **Adelie**, **Chinstrap**, and **Gentoo**.  Your task is to apply your data science skills to help them identify groups in the dataset!"
   ]
  },
  {
   "cell_type": "code",
   "execution_count": 1,
   "id": "57295d13-5753-4f8d-aa96-cd6815f7cbd9",
   "metadata": {
    "executionCancelledAt": null,
    "executionTime": 53,
    "lastExecutedAt": 1737624623479,
    "lastExecutedByKernel": "08e76569-2beb-48e2-8ebe-6555e03524fc",
    "lastScheduledRunId": null,
    "lastSuccessfullyExecutedCode": "# Import Required Packages\nimport pandas as pd\nimport matplotlib.pyplot as plt\nfrom sklearn.cluster import KMeans\nfrom sklearn.preprocessing import StandardScaler\n\n# Loading and examining the dataset\npenguins_df = pd.read_csv(\"penguins.csv\")\npenguins_df.head()",
    "outputsMetadata": {
     "0": {
      "height": 550,
      "tableState": {
       "quickFilterText": ""
      },
      "type": "dataFrame"
     }
    }
   },
   "outputs": [
    {
     "data": {
      "text/html": [
       "<div>\n",
       "<style scoped>\n",
       "    .dataframe tbody tr th:only-of-type {\n",
       "        vertical-align: middle;\n",
       "    }\n",
       "\n",
       "    .dataframe tbody tr th {\n",
       "        vertical-align: top;\n",
       "    }\n",
       "\n",
       "    .dataframe thead th {\n",
       "        text-align: right;\n",
       "    }\n",
       "</style>\n",
       "<table border=\"1\" class=\"dataframe\">\n",
       "  <thead>\n",
       "    <tr style=\"text-align: right;\">\n",
       "      <th></th>\n",
       "      <th>culmen_length_mm</th>\n",
       "      <th>culmen_depth_mm</th>\n",
       "      <th>flipper_length_mm</th>\n",
       "      <th>body_mass_g</th>\n",
       "      <th>sex</th>\n",
       "    </tr>\n",
       "  </thead>\n",
       "  <tbody>\n",
       "    <tr>\n",
       "      <th>0</th>\n",
       "      <td>39.1</td>\n",
       "      <td>18.7</td>\n",
       "      <td>181.0</td>\n",
       "      <td>3750.0</td>\n",
       "      <td>MALE</td>\n",
       "    </tr>\n",
       "    <tr>\n",
       "      <th>1</th>\n",
       "      <td>39.5</td>\n",
       "      <td>17.4</td>\n",
       "      <td>186.0</td>\n",
       "      <td>3800.0</td>\n",
       "      <td>FEMALE</td>\n",
       "    </tr>\n",
       "    <tr>\n",
       "      <th>2</th>\n",
       "      <td>40.3</td>\n",
       "      <td>18.0</td>\n",
       "      <td>195.0</td>\n",
       "      <td>3250.0</td>\n",
       "      <td>FEMALE</td>\n",
       "    </tr>\n",
       "    <tr>\n",
       "      <th>3</th>\n",
       "      <td>36.7</td>\n",
       "      <td>19.3</td>\n",
       "      <td>193.0</td>\n",
       "      <td>3450.0</td>\n",
       "      <td>FEMALE</td>\n",
       "    </tr>\n",
       "    <tr>\n",
       "      <th>4</th>\n",
       "      <td>39.3</td>\n",
       "      <td>20.6</td>\n",
       "      <td>190.0</td>\n",
       "      <td>3650.0</td>\n",
       "      <td>MALE</td>\n",
       "    </tr>\n",
       "  </tbody>\n",
       "</table>\n",
       "</div>"
      ],
      "text/plain": [
       "   culmen_length_mm  culmen_depth_mm  flipper_length_mm  body_mass_g     sex\n",
       "0              39.1             18.7              181.0       3750.0    MALE\n",
       "1              39.5             17.4              186.0       3800.0  FEMALE\n",
       "2              40.3             18.0              195.0       3250.0  FEMALE\n",
       "3              36.7             19.3              193.0       3450.0  FEMALE\n",
       "4              39.3             20.6              190.0       3650.0    MALE"
      ]
     },
     "execution_count": 1,
     "metadata": {},
     "output_type": "execute_result"
    }
   ],
   "source": [
    "# Import Required Packages\n",
    "import pandas as pd\n",
    "import matplotlib.pyplot as plt\n",
    "from sklearn.cluster import KMeans\n",
    "from sklearn.preprocessing import MinMaxScaler\n",
    "\n",
    "# Loading and examining the dataset\n",
    "penguins_df = pd.read_csv(\"penguins.csv\")\n",
    "penguins_df.head()"
   ]
  },
  {
   "cell_type": "code",
   "execution_count": 2,
   "id": "942ca8a7-98c1-4159-a338-64be64906bce",
   "metadata": {
    "executionCancelledAt": null,
    "executionTime": 52,
    "lastExecutedAt": 1737624623531,
    "lastExecutedByKernel": "08e76569-2beb-48e2-8ebe-6555e03524fc",
    "lastScheduledRunId": null,
    "lastSuccessfullyExecutedCode": "penguins_df.isna().sum()",
    "outputsMetadata": {
     "0": {
      "height": 550,
      "tableState": {
       "quickFilterText": ""
      },
      "type": "dataFrame"
     }
    }
   },
   "outputs": [
    {
     "data": {
      "text/plain": [
       "culmen_length_mm     0\n",
       "culmen_depth_mm      0\n",
       "flipper_length_mm    0\n",
       "body_mass_g          0\n",
       "sex                  0\n",
       "dtype: int64"
      ]
     },
     "execution_count": 2,
     "metadata": {},
     "output_type": "execute_result"
    }
   ],
   "source": [
    "penguins_df.isna().sum()"
   ]
  },
  {
   "cell_type": "code",
   "execution_count": 3,
   "id": "d743d04a-2b50-4954-96e5-5a9210e9eff0",
   "metadata": {
    "executionCancelledAt": null,
    "executionTime": 64,
    "lastExecutedAt": 1737624623595,
    "lastExecutedByKernel": "08e76569-2beb-48e2-8ebe-6555e03524fc",
    "lastScheduledRunId": null,
    "lastSuccessfullyExecutedCode": "dummies= pd.get_dummies(penguins_df['sex'])\npg_df = pd.concat([dummies,penguins_df],axis=1)\npg_df.drop('sex',axis=1,inplace=True)\npg_df.head()",
    "outputsMetadata": {
     "0": {
      "height": 550,
      "tableState": {
       "quickFilterText": ""
      },
      "type": "dataFrame"
     }
    }
   },
   "outputs": [
    {
     "data": {
      "text/html": [
       "<div>\n",
       "<style scoped>\n",
       "    .dataframe tbody tr th:only-of-type {\n",
       "        vertical-align: middle;\n",
       "    }\n",
       "\n",
       "    .dataframe tbody tr th {\n",
       "        vertical-align: top;\n",
       "    }\n",
       "\n",
       "    .dataframe thead th {\n",
       "        text-align: right;\n",
       "    }\n",
       "</style>\n",
       "<table border=\"1\" class=\"dataframe\">\n",
       "  <thead>\n",
       "    <tr style=\"text-align: right;\">\n",
       "      <th></th>\n",
       "      <th>FEMALE</th>\n",
       "      <th>MALE</th>\n",
       "      <th>culmen_length_mm</th>\n",
       "      <th>culmen_depth_mm</th>\n",
       "      <th>flipper_length_mm</th>\n",
       "      <th>body_mass_g</th>\n",
       "    </tr>\n",
       "  </thead>\n",
       "  <tbody>\n",
       "    <tr>\n",
       "      <th>0</th>\n",
       "      <td>False</td>\n",
       "      <td>True</td>\n",
       "      <td>39.1</td>\n",
       "      <td>18.7</td>\n",
       "      <td>181.0</td>\n",
       "      <td>3750.0</td>\n",
       "    </tr>\n",
       "    <tr>\n",
       "      <th>1</th>\n",
       "      <td>True</td>\n",
       "      <td>False</td>\n",
       "      <td>39.5</td>\n",
       "      <td>17.4</td>\n",
       "      <td>186.0</td>\n",
       "      <td>3800.0</td>\n",
       "    </tr>\n",
       "    <tr>\n",
       "      <th>2</th>\n",
       "      <td>True</td>\n",
       "      <td>False</td>\n",
       "      <td>40.3</td>\n",
       "      <td>18.0</td>\n",
       "      <td>195.0</td>\n",
       "      <td>3250.0</td>\n",
       "    </tr>\n",
       "    <tr>\n",
       "      <th>3</th>\n",
       "      <td>True</td>\n",
       "      <td>False</td>\n",
       "      <td>36.7</td>\n",
       "      <td>19.3</td>\n",
       "      <td>193.0</td>\n",
       "      <td>3450.0</td>\n",
       "    </tr>\n",
       "    <tr>\n",
       "      <th>4</th>\n",
       "      <td>False</td>\n",
       "      <td>True</td>\n",
       "      <td>39.3</td>\n",
       "      <td>20.6</td>\n",
       "      <td>190.0</td>\n",
       "      <td>3650.0</td>\n",
       "    </tr>\n",
       "  </tbody>\n",
       "</table>\n",
       "</div>"
      ],
      "text/plain": [
       "   FEMALE   MALE  culmen_length_mm  culmen_depth_mm  flipper_length_mm  \\\n",
       "0   False   True              39.1             18.7              181.0   \n",
       "1    True  False              39.5             17.4              186.0   \n",
       "2    True  False              40.3             18.0              195.0   \n",
       "3    True  False              36.7             19.3              193.0   \n",
       "4   False   True              39.3             20.6              190.0   \n",
       "\n",
       "   body_mass_g  \n",
       "0       3750.0  \n",
       "1       3800.0  \n",
       "2       3250.0  \n",
       "3       3450.0  \n",
       "4       3650.0  "
      ]
     },
     "execution_count": 3,
     "metadata": {},
     "output_type": "execute_result"
    }
   ],
   "source": [
    "dummies= pd.get_dummies(penguins_df['sex'])\n",
    "pg_df = pd.concat([dummies,penguins_df],axis=1)\n",
    "pg_df.drop('sex',axis=1,inplace=True)\n",
    "pg_df.head()"
   ]
  },
  {
   "cell_type": "code",
   "execution_count": 4,
   "id": "d3aca1a4-b9d0-4422-ab35-15913a5d317d",
   "metadata": {
    "executionCancelledAt": null,
    "executionTime": 57,
    "lastExecutedAt": 1737624623652,
    "lastExecutedByKernel": "08e76569-2beb-48e2-8ebe-6555e03524fc",
    "lastScheduledRunId": null,
    "lastSuccessfullyExecutedCode": "scaler = StandardScaler()\nX = scaler.fit_transform(pg_df)\npg_processed = pd.DataFrame(data=X,columns=pg_df.columns)\npg_processed.head()",
    "outputsMetadata": {
     "0": {
      "height": 550,
      "tableState": {
       "quickFilterText": ""
      },
      "type": "dataFrame"
     }
    }
   },
   "outputs": [
    {
     "data": {
      "text/html": [
       "<div>\n",
       "<style scoped>\n",
       "    .dataframe tbody tr th:only-of-type {\n",
       "        vertical-align: middle;\n",
       "    }\n",
       "\n",
       "    .dataframe tbody tr th {\n",
       "        vertical-align: top;\n",
       "    }\n",
       "\n",
       "    .dataframe thead th {\n",
       "        text-align: right;\n",
       "    }\n",
       "</style>\n",
       "<table border=\"1\" class=\"dataframe\">\n",
       "  <thead>\n",
       "    <tr style=\"text-align: right;\">\n",
       "      <th></th>\n",
       "      <th>FEMALE</th>\n",
       "      <th>MALE</th>\n",
       "      <th>culmen_length_mm</th>\n",
       "      <th>culmen_depth_mm</th>\n",
       "      <th>flipper_length_mm</th>\n",
       "      <th>body_mass_g</th>\n",
       "    </tr>\n",
       "  </thead>\n",
       "  <tbody>\n",
       "    <tr>\n",
       "      <th>0</th>\n",
       "      <td>0.0</td>\n",
       "      <td>1.0</td>\n",
       "      <td>0.254545</td>\n",
       "      <td>0.666667</td>\n",
       "      <td>0.152542</td>\n",
       "      <td>0.291667</td>\n",
       "    </tr>\n",
       "    <tr>\n",
       "      <th>1</th>\n",
       "      <td>1.0</td>\n",
       "      <td>0.0</td>\n",
       "      <td>0.269091</td>\n",
       "      <td>0.511905</td>\n",
       "      <td>0.237288</td>\n",
       "      <td>0.305556</td>\n",
       "    </tr>\n",
       "    <tr>\n",
       "      <th>2</th>\n",
       "      <td>1.0</td>\n",
       "      <td>0.0</td>\n",
       "      <td>0.298182</td>\n",
       "      <td>0.583333</td>\n",
       "      <td>0.389831</td>\n",
       "      <td>0.152778</td>\n",
       "    </tr>\n",
       "    <tr>\n",
       "      <th>3</th>\n",
       "      <td>1.0</td>\n",
       "      <td>0.0</td>\n",
       "      <td>0.167273</td>\n",
       "      <td>0.738095</td>\n",
       "      <td>0.355932</td>\n",
       "      <td>0.208333</td>\n",
       "    </tr>\n",
       "    <tr>\n",
       "      <th>4</th>\n",
       "      <td>0.0</td>\n",
       "      <td>1.0</td>\n",
       "      <td>0.261818</td>\n",
       "      <td>0.892857</td>\n",
       "      <td>0.305085</td>\n",
       "      <td>0.263889</td>\n",
       "    </tr>\n",
       "  </tbody>\n",
       "</table>\n",
       "</div>"
      ],
      "text/plain": [
       "   FEMALE  MALE  culmen_length_mm  culmen_depth_mm  flipper_length_mm  \\\n",
       "0     0.0   1.0          0.254545         0.666667           0.152542   \n",
       "1     1.0   0.0          0.269091         0.511905           0.237288   \n",
       "2     1.0   0.0          0.298182         0.583333           0.389831   \n",
       "3     1.0   0.0          0.167273         0.738095           0.355932   \n",
       "4     0.0   1.0          0.261818         0.892857           0.305085   \n",
       "\n",
       "   body_mass_g  \n",
       "0     0.291667  \n",
       "1     0.305556  \n",
       "2     0.152778  \n",
       "3     0.208333  \n",
       "4     0.263889  "
      ]
     },
     "execution_count": 4,
     "metadata": {},
     "output_type": "execute_result"
    }
   ],
   "source": [
    "scaler = MinMaxScaler()\n",
    "X = scaler.fit_transform(pg_df)\n",
    "pg_processed = pd.DataFrame(data=X,columns=pg_df.columns)\n",
    "pg_processed.head()"
   ]
  },
  {
   "cell_type": "code",
   "execution_count": 5,
   "id": "ca45c0c9-3969-4233-a8b9-22769de370d4",
   "metadata": {
    "executionCancelledAt": null,
    "executionTime": 337,
    "lastExecutedAt": 1737624623989,
    "lastExecutedByKernel": "08e76569-2beb-48e2-8ebe-6555e03524fc",
    "lastScheduledRunId": null,
    "lastSuccessfullyExecutedCode": "ks = range(1, 11)\ninertias = []\n\nfor k in ks:\n    # Create a KMeans instance with k clusters: model\n    kMeans = KMeans(n_clusters = k,random_state= 36).fit(pg_processed)\n    \n    # Append the inertia to the list of inertias\n    inertias.append(kMeans.inertia_)\n    \n# Plot ks vs inertias\nplt.plot(ks, inertias, '-o')\nplt.xlabel('number of clusters, k')\nplt.ylabel('inertia')\nplt.xticks(ks)\nplt.show()"
   },
   "outputs": [
    {
     "data": {
      "image/png": "[encoded data removed]",
      "text/plain": [
       "<Figure size 640x480 with 1 Axes>"
      ]
     },
     "metadata": {},
     "output_type": "display_data"
    }
   ],
   "source": [
    "ks = range(1, 11)\n",
    "inertias = []\n",
    "\n",
    "for k in ks:\n",
    "    # Create a KMeans instance with k clusters: model\n",
    "    kMeans = KMeans(n_clusters = k,random_state= 36).fit(pg_processed)\n",
    "    \n",
    "    # Append the inertia to the list of inertias\n",
    "    inertias.append(kMeans.inertia_)\n",
    "    \n",
    "# Plot ks vs inertias\n",
    "plt.plot(ks, inertias, '-o')\n",
    "plt.xlabel('number of clusters, k')\n",
    "plt.ylabel('inertia')\n",
    "plt.xticks(ks)\n",
    "plt.show()"
   ]
  },
  {
   "cell_type": "code",
   "execution_count": 17,
   "id": "41b423c3-6819-4712-a2f3-c46c7094d0ca",
   "metadata": {
    "executionCancelledAt": null,
    "executionTime": 54,
    "lastExecutedAt": 1737624624043,
    "lastExecutedByKernel": "08e76569-2beb-48e2-8ebe-6555e03524fc",
    "lastScheduledRunId": null,
    "lastSuccessfullyExecutedCode": "n_clusters = 4\nkmeans = KMeans(n_clusters=n_clusters, random_state=36).fit(pg_processed)\npenguins_df['label'] = kmeans.labels_\n\n# Assign the cluster centers: centroids\ncentroids = kmeans.cluster_centers_"
   },
   "outputs": [],
   "source": [
    "n_clusters = 5\n",
    "kmeans = KMeans(n_clusters=n_clusters, random_state=36).fit(pg_processed)\n",
    "penguins_df['label'] = kmeans.labels_\n",
    "\n",
    "# Assign the cluster centers: centroids\n",
    "centroids = kmeans.cluster_centers_"
   ]
  },
  {
   "cell_type": "code",
   "execution_count": 18,
   "id": "f679b014-2cf6-45bb-9c5a-7faba791a609",
   "metadata": {
    "executionCancelledAt": null,
    "executionTime": 239,
    "lastExecutedAt": 1737624624282,
    "lastExecutedByKernel": "08e76569-2beb-48e2-8ebe-6555e03524fc",
    "lastScheduledRunId": null,
    "lastSuccessfullyExecutedCode": "# Assign the columns of centroids: centroids_x, centroids_y\ncentroids_x = centroids[:, pg_processed.columns.get_loc('flipper_length_mm')]\ncentroids_y = centroids[:, pg_processed.columns.get_loc('body_mass_g')]\n\n# Make a scatter plot of data points\nplt.scatter(pg_processed['flipper_length_mm'], pg_processed['body_mass_g'], c=kmeans.labels_, cmap='viridis', alpha=0.5)\n\n# Plot the centroids\nplt.scatter(centroids_x, centroids_y, marker='D', s=50, color='red')\n\nplt.xlabel('flipper_length_mm')\nplt.ylabel('body_mass_g')\nplt.title(f'K-means Clustering (K={n_clusters})')\nplt.show()"
   },
   "outputs": [
    {
     "data": {
      "image/png": "[encoded data removed]",
      "text/plain": [
       "<Figure size 640x480 with 1 Axes>"
      ]
     },
     "metadata": {},
     "output_type": "display_data"
    }
   ],
   "source": [
    "# Assign the columns of centroids: centroids_x, centroids_y\n",
    "centroids_x = centroids[:, pg_processed.columns.get_loc('flipper_length_mm')]\n",
    "centroids_y = centroids[:, pg_processed.columns.get_loc('body_mass_g')]\n",
    "\n",
    "# Make a scatter plot of data points\n",
    "plt.scatter(pg_processed['flipper_length_mm'], pg_processed['body_mass_g'], c=kmeans.labels_, cmap='viridis', alpha=0.5)\n",
    "\n",
    "# Plot the centroids\n",
    "plt.scatter(centroids_x, centroids_y, marker='D', s=50, color='red')\n",
    "\n",
    "plt.xlabel('flipper_length_mm')\n",
    "plt.ylabel('body_mass_g')\n",
    "plt.title(f'K-means Clustering (K={n_clusters})')\n",
    "plt.show()"
   ]
  },
  {
   "cell_type": "code",
   "execution_count": 8,
   "id": "e263b1b5-52dd-4426-8838-60c540a543d1",
   "metadata": {
    "executionCancelledAt": null,
    "executionTime": 57,
    "lastExecutedAt": 1737624624339,
    "lastExecutedByKernel": "08e76569-2beb-48e2-8ebe-6555e03524fc",
    "lastScheduledRunId": null,
    "lastSuccessfullyExecutedCode": "stat_penguins = penguins_df.groupby('label').mean()\nstat_penguins",
    "outputsMetadata": {
     "0": {
      "height": 217,
      "tableState": {
       "customFilter": {
        "const": {
         "type": "boolean",
         "valid": true,
         "value": true
        },
        "id": "66a418f3-d5dc-4954-88e5-a8f63cd82fa5",
        "nodeType": "const"
       },
       "quickFilterText": ""
      },
      "type": "dataFrame"
     }
    }
   },
   "outputs": [
    {
     "data": {
      "text/html": [
       "<div>\n",
       "<style scoped>\n",
       "    .dataframe tbody tr th:only-of-type {\n",
       "        vertical-align: middle;\n",
       "    }\n",
       "\n",
       "    .dataframe tbody tr th {\n",
       "        vertical-align: top;\n",
       "    }\n",
       "\n",
       "    .dataframe thead th {\n",
       "        text-align: right;\n",
       "    }\n",
       "</style>\n",
       "<table border=\"1\" class=\"dataframe\">\n",
       "  <thead>\n",
       "    <tr style=\"text-align: right;\">\n",
       "      <th></th>\n",
       "      <th>culmen_length_mm</th>\n",
       "      <th>culmen_depth_mm</th>\n",
       "      <th>flipper_length_mm</th>\n",
       "      <th>body_mass_g</th>\n",
       "    </tr>\n",
       "    <tr>\n",
       "      <th>label</th>\n",
       "      <th></th>\n",
       "      <th></th>\n",
       "      <th></th>\n",
       "      <th></th>\n",
       "    </tr>\n",
       "  </thead>\n",
       "  <tbody>\n",
       "    <tr>\n",
       "      <th>0</th>\n",
       "      <td>49.473770</td>\n",
       "      <td>15.718033</td>\n",
       "      <td>221.540984</td>\n",
       "      <td>5484.836066</td>\n",
       "    </tr>\n",
       "    <tr>\n",
       "      <th>1</th>\n",
       "      <td>40.217757</td>\n",
       "      <td>17.611215</td>\n",
       "      <td>189.046729</td>\n",
       "      <td>3419.158879</td>\n",
       "    </tr>\n",
       "    <tr>\n",
       "      <th>2</th>\n",
       "      <td>43.878302</td>\n",
       "      <td>19.111321</td>\n",
       "      <td>194.764151</td>\n",
       "      <td>4006.603774</td>\n",
       "    </tr>\n",
       "    <tr>\n",
       "      <th>3</th>\n",
       "      <td>45.563793</td>\n",
       "      <td>14.237931</td>\n",
       "      <td>212.706897</td>\n",
       "      <td>4679.741379</td>\n",
       "    </tr>\n",
       "  </tbody>\n",
       "</table>\n",
       "</div>"
      ],
      "text/plain": [
       "       culmen_length_mm  culmen_depth_mm  flipper_length_mm  body_mass_g\n",
       "label                                                                   \n",
       "0             49.473770        15.718033         221.540984  5484.836066\n",
       "1             40.217757        17.611215         189.046729  3419.158879\n",
       "2             43.878302        19.111321         194.764151  4006.603774\n",
       "3             45.563793        14.237931         212.706897  4679.741379"
      ]
     },
     "execution_count": 8,
     "metadata": {},
     "output_type": "execute_result"
    }
   ],
   "source": [
    "# Exclude non-numeric columns before applying the mean function\n",
    "stat_penguins = penguins_df.groupby('label').mean(numeric_only=True)\n",
    "stat_penguins"
   ]
  }
 ],
 "metadata": {
  "colab": {
   "name": "Welcome to DataCamp Workspaces.ipynb",
   "provenance": []
  },
  "editor": "DataLab",
  "kernelspec": {
   "display_name": "Python 3",
   "language": "python",
   "name": "python3"
  },
  "language_info": {
   "codemirror_mode": {
    "name": "ipython",
    "version": 3
   },
   "file_extension": ".py",
   "mimetype": "text/x-python",
   "name": "python",
   "nbconvert_exporter": "python",
   "pygments_lexer": "ipython3",
   "version": "3.11.9"
  }
 },
 "nbformat": 4,
 "nbformat_minor": 5
}
