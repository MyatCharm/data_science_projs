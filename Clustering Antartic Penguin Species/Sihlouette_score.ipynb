{
 "cells": [
  {
   "cell_type": "code",
   "execution_count": null,
   "metadata": {
    "vscode": {
     "languageId": "plaintext"
    }
   },
   "outputs": [],
   "source": [
    "# Import libraries\n",
    "import pandas as pd\n",
    "import numpy as np\n",
    "import matplotlib.pyplot as plt\n",
    "from sklearn.cluster import KMeans\n",
    "from sklearn.metrics import silhouette_score, silhouette_samples\n",
    "from sklearn.preprocessing import StandardScaler\n",
    "\n",
    "# Example: Generate synthetic data for clustering\n",
    "from sklearn.datasets import make_blobs\n",
    "X, _ = make_blobs(n_samples=300, centers=4, cluster_std=0.6, random_state=42)\n",
    "\n",
    "# Step 1: Standardize the data\n",
    "scaler = StandardScaler()\n",
    "X_scaled = scaler.fit_transform(X)\n",
    "\n",
    "# Step 2: Apply KMeans clustering\n",
    "n_clusters = 4  # Number of clusters\n",
    "kmeans = KMeans(n_clusters=n_clusters, random_state=42)\n",
    "cluster_labels = kmeans.fit_predict(X_scaled)\n",
    "\n",
    "# Step 3: Calculate the silhouette score\n",
    "sil_score = silhouette_score(X_scaled, cluster_labels)\n",
    "print(f\"Silhouette Score for {n_clusters} clusters: {sil_score:.2f}\")\n",
    "\n",
    "# Step 4: Visualize the silhouette scores for each sample\n",
    "silhouette_vals = silhouette_samples(X_scaled, cluster_labels)\n",
    "\n",
    "# Create the silhouette plot\n",
    "plt.figure(figsize=(8, 6))\n",
    "y_lower = 10  # Offset for plotting\n",
    "for i in range(n_clusters):\n",
    "    # Select silhouette scores for the current cluster\n",
    "    ith_cluster_silhouette_vals = silhouette_vals[cluster_labels == i]\n",
    "    ith_cluster_silhouette_vals.sort()\n",
    "\n",
    "    size_cluster_i = ith_cluster_silhouette_vals.shape[0]\n",
    "    y_upper = y_lower + size_cluster_i\n",
    "\n",
    "    plt.fill_betweenx(\n",
    "        np.arange(y_lower, y_upper),\n",
    "        0,\n",
    "        ith_cluster_silhouette_vals,\n",
    "        alpha=0.7,\n",
    "        label=f\"Cluster {i + 1}\",\n",
    "    )\n",
    "    y_lower = y_upper + 10  # Add some spacing between clusters\n",
    "\n",
    "# Add labels and title\n",
    "plt.axvline(x=sil_score, color=\"red\", linestyle=\"--\", label=\"Average Silhouette Score\")\n",
    "plt.title(\"Silhouette Plot for KMeans Clustering\", fontsize=14)\n",
    "plt.xlabel(\"Silhouette Score\", fontsize=12)\n",
    "plt.ylabel(\"Cluster\", fontsize=12)\n",
    "plt.legend(loc=\"best\")\n",
    "plt.tight_layout()\n",
    "plt.show()\n"
   ]
  }
 ],
 "metadata": {
  "language_info": {
   "name": "python"
  }
 },
 "nbformat": 4,
 "nbformat_minor": 2
}
